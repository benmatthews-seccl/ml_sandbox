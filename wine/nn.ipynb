{
 "cells": [
  {
   "cell_type": "code",
   "execution_count": 12,
   "metadata": {},
   "outputs": [
    {
     "name": "stdout",
     "output_type": "stream",
     "text": [
      "Describing the data:\n",
      "        fixed acidity  volatile acidity  citric acid  residual sugar  \\\n",
      "count    6497.000000       6497.000000  6497.000000     6497.000000   \n",
      "mean        7.215307          0.339666     0.318633        5.443235   \n",
      "std         1.296434          0.164636     0.145318        4.757804   \n",
      "min         3.800000          0.080000     0.000000        0.600000   \n",
      "25%         6.400000          0.230000     0.250000        1.800000   \n",
      "50%         7.000000          0.290000     0.310000        3.000000   \n",
      "75%         7.700000          0.400000     0.390000        8.100000   \n",
      "max        15.900000          1.580000     1.660000       65.800000   \n",
      "\n",
      "         chlorides  free sulfur dioxide  total sulfur dioxide      density  \\\n",
      "count  6497.000000          6497.000000           6497.000000  6497.000000   \n",
      "mean      0.056034            30.525319            115.744574     0.994697   \n",
      "std       0.035034            17.749400             56.521855     0.002999   \n",
      "min       0.009000             1.000000              6.000000     0.987110   \n",
      "25%       0.038000            17.000000             77.000000     0.992340   \n",
      "50%       0.047000            29.000000            118.000000     0.994890   \n",
      "75%       0.065000            41.000000            156.000000     0.996990   \n",
      "max       0.611000           289.000000            440.000000     1.038980   \n",
      "\n",
      "                pH    sulphates      alcohol      quality       colour  \n",
      "count  6497.000000  6497.000000  6497.000000  6497.000000  6497.000000  \n",
      "mean      3.218501     0.531268    10.491801     5.818378     0.246114  \n",
      "std       0.160787     0.148806     1.192712     0.873255     0.430779  \n",
      "min       2.720000     0.220000     8.000000     3.000000     0.000000  \n",
      "25%       3.110000     0.430000     9.500000     5.000000     0.000000  \n",
      "50%       3.210000     0.510000    10.300000     6.000000     0.000000  \n",
      "75%       3.320000     0.600000    11.300000     6.000000     0.000000  \n",
      "max       4.010000     2.000000    14.900000     9.000000     1.000000  \n",
      "<class 'pandas.core.frame.DataFrame'>\n",
      "Int64Index: 6497 entries, 0 to 4897\n",
      "Data columns (total 13 columns):\n",
      " #   Column                Non-Null Count  Dtype  \n",
      "---  ------                --------------  -----  \n",
      " 0   fixed acidity         6497 non-null   float64\n",
      " 1   volatile acidity      6497 non-null   float64\n",
      " 2   citric acid           6497 non-null   float64\n",
      " 3   residual sugar        6497 non-null   float64\n",
      " 4   chlorides             6497 non-null   float64\n",
      " 5   free sulfur dioxide   6497 non-null   float64\n",
      " 6   total sulfur dioxide  6497 non-null   float64\n",
      " 7   density               6497 non-null   float64\n",
      " 8   pH                    6497 non-null   float64\n",
      " 9   sulphates             6497 non-null   float64\n",
      " 10  alcohol               6497 non-null   float64\n",
      " 11  quality               6497 non-null   int64  \n",
      " 12  colour                6497 non-null   int64  \n",
      "dtypes: float64(11), int64(2)\n",
      "memory usage: 710.6 KB\n",
      "Info of the data:\n",
      " None\n"
     ]
    }
   ],
   "source": [
    "#Import required libraries \n",
    "from tensorflow import keras #library for neural network\n",
    "import pandas as pd #loading data in table form  \n",
    "import seaborn as sns #visualisation \n",
    "import matplotlib.pyplot as plt #visualisation\n",
    "import numpy as np # linear algebra\n",
    "import pandas as pd # data processing, CSV file I/O (e.g. pd.read_csv)\n",
    "from sklearn.preprocessing import normalize #machine learning algorithm library\n",
    "#Reading data \n",
    "r = pd.read_csv(\"./data/winequality-red.csv\", delimiter=\";\")\n",
    "r[\"colour\"] = 1\n",
    "w = pd.read_csv(\"./data/winequality-white.csv\", delimiter=\";\")\n",
    "w [\"colour\"] = 0\n",
    "data = pd.concat([r, w])\n",
    "print(\"Describing the data:\\n\", data.describe())\n",
    "print(\"Info of the data:\\n\", data.info())"
   ]
  },
  {
   "cell_type": "code",
   "execution_count": 13,
   "metadata": {},
   "outputs": [
    {
     "name": "stdout",
     "output_type": "stream",
     "text": [
      "10 first samples of the dataset:\n",
      "    fixed acidity  volatile acidity  citric acid  residual sugar  chlorides  \\\n",
      "0            7.4              0.70         0.00             1.9      0.076   \n",
      "1            7.8              0.88         0.00             2.6      0.098   \n",
      "2            7.8              0.76         0.04             2.3      0.092   \n",
      "3           11.2              0.28         0.56             1.9      0.075   \n",
      "4            7.4              0.70         0.00             1.9      0.076   \n",
      "5            7.4              0.66         0.00             1.8      0.075   \n",
      "6            7.9              0.60         0.06             1.6      0.069   \n",
      "7            7.3              0.65         0.00             1.2      0.065   \n",
      "8            7.8              0.58         0.02             2.0      0.073   \n",
      "9            7.5              0.50         0.36             6.1      0.071   \n",
      "\n",
      "   free sulfur dioxide  total sulfur dioxide  density    pH  sulphates  \\\n",
      "0                 11.0                  34.0   0.9978  3.51       0.56   \n",
      "1                 25.0                  67.0   0.9968  3.20       0.68   \n",
      "2                 15.0                  54.0   0.9970  3.26       0.65   \n",
      "3                 17.0                  60.0   0.9980  3.16       0.58   \n",
      "4                 11.0                  34.0   0.9978  3.51       0.56   \n",
      "5                 13.0                  40.0   0.9978  3.51       0.56   \n",
      "6                 15.0                  59.0   0.9964  3.30       0.46   \n",
      "7                 15.0                  21.0   0.9946  3.39       0.47   \n",
      "8                  9.0                  18.0   0.9968  3.36       0.57   \n",
      "9                 17.0                 102.0   0.9978  3.35       0.80   \n",
      "\n",
      "   alcohol  quality  colour  \n",
      "0      9.4        5       1  \n",
      "1      9.8        5       1  \n",
      "2      9.8        5       1  \n",
      "3      9.8        6       1  \n",
      "4      9.4        5       1  \n",
      "5      9.4        5       1  \n",
      "6      9.4        5       1  \n",
      "7     10.0        7       1  \n",
      "8      9.5        7       1  \n",
      "9     10.5        5       1  \n",
      "10 last samples of the dataset:\n",
      "       fixed acidity  volatile acidity  citric acid  residual sugar  chlorides  \\\n",
      "4888            6.8             0.220         0.36            1.20      0.052   \n",
      "4889            4.9             0.235         0.27           11.75      0.030   \n",
      "4890            6.1             0.340         0.29            2.20      0.036   \n",
      "4891            5.7             0.210         0.32            0.90      0.038   \n",
      "4892            6.5             0.230         0.38            1.30      0.032   \n",
      "4893            6.2             0.210         0.29            1.60      0.039   \n",
      "4894            6.6             0.320         0.36            8.00      0.047   \n",
      "4895            6.5             0.240         0.19            1.20      0.041   \n",
      "4896            5.5             0.290         0.30            1.10      0.022   \n",
      "4897            6.0             0.210         0.38            0.80      0.020   \n",
      "\n",
      "      free sulfur dioxide  total sulfur dioxide  density    pH  sulphates  \\\n",
      "4888                 38.0                 127.0  0.99330  3.04       0.54   \n",
      "4889                 34.0                 118.0  0.99540  3.07       0.50   \n",
      "4890                 25.0                 100.0  0.98938  3.06       0.44   \n",
      "4891                 38.0                 121.0  0.99074  3.24       0.46   \n",
      "4892                 29.0                 112.0  0.99298  3.29       0.54   \n",
      "4893                 24.0                  92.0  0.99114  3.27       0.50   \n",
      "4894                 57.0                 168.0  0.99490  3.15       0.46   \n",
      "4895                 30.0                 111.0  0.99254  2.99       0.46   \n",
      "4896                 20.0                 110.0  0.98869  3.34       0.38   \n",
      "4897                 22.0                  98.0  0.98941  3.26       0.32   \n",
      "\n",
      "      alcohol  quality  colour  \n",
      "4888      9.2        5       0  \n",
      "4889      9.4        6       0  \n",
      "4890     11.8        6       0  \n",
      "4891     10.6        6       0  \n",
      "4892      9.7        5       0  \n",
      "4893     11.2        6       0  \n",
      "4894      9.6        5       0  \n",
      "4895      9.4        6       0  \n",
      "4896     12.8        7       0  \n",
      "4897     11.8        6       0  \n"
     ]
    }
   ],
   "source": [
    "\n",
    "print(\"10 first samples of the dataset:\\n\",data.head(10))\n",
    "print(\"10 last samples of the dataset:\\n\",data.tail(10))\n"
   ]
  },
  {
   "cell_type": "code",
   "execution_count": 14,
   "metadata": {},
   "outputs": [
    {
     "name": "stdout",
     "output_type": "stream",
     "text": [
      "[1 0]\n",
      "   fixed acidity  volatile acidity  citric acid  residual sugar  chlorides  \\\n",
      "0            7.4              0.70         0.00             1.9      0.076   \n",
      "1            7.8              0.88         0.00             2.6      0.098   \n",
      "2            7.8              0.76         0.04             2.3      0.092   \n",
      "3           11.2              0.28         0.56             1.9      0.075   \n",
      "4            7.4              0.70         0.00             1.9      0.076   \n",
      "\n",
      "   free sulfur dioxide  total sulfur dioxide  density    pH  sulphates  \\\n",
      "0                 11.0                  34.0   0.9978  3.51       0.56   \n",
      "1                 25.0                  67.0   0.9968  3.20       0.68   \n",
      "2                 15.0                  54.0   0.9970  3.26       0.65   \n",
      "3                 17.0                  60.0   0.9980  3.16       0.58   \n",
      "4                 11.0                  34.0   0.9978  3.51       0.56   \n",
      "\n",
      "   alcohol  quality  colour  \n",
      "0      9.4        5       1  \n",
      "1      9.8        5       1  \n",
      "2      9.8        5       1  \n",
      "3      9.8        6       1  \n",
      "4      9.4        5       1  \n"
     ]
    }
   ],
   "source": [
    "\n",
    "print(data[\"colour\"].unique())\n",
    "# data.loc[data[\"colour\"]==\"Iris-setosa\",\"colour\"]=0\n",
    "# data.loc[data[\"colour\"]==\"Iris-versicolor\",\"colour\"]=1\n",
    "# data.loc[data[\"colour\"]==\"Iris-virginica\",\"colour\"]=2\n",
    "print(data.head())\n"
   ]
  },
  {
   "cell_type": "code",
   "execution_count": 15,
   "metadata": {},
   "outputs": [
    {
     "name": "stdout",
     "output_type": "stream",
     "text": [
      "      fixed acidity  volatile acidity  citric acid  residual sugar  chlorides  \\\n",
      "742             6.5             0.615         0.00             1.9      0.065   \n",
      "3872            7.3             0.360         0.54            13.3      0.054   \n",
      "4544            5.8             0.280         0.30             3.9      0.026   \n",
      "4150            7.6             0.480         0.31             9.4      0.046   \n",
      "620             6.5             0.460         0.41            16.8      0.084   \n",
      "\n",
      "      free sulfur dioxide  total sulfur dioxide  density    pH  sulphates  \\\n",
      "742                   9.0                  18.0  0.99720  3.46       0.65   \n",
      "3872                 63.0                 193.0  0.99864  3.06       0.49   \n",
      "4544                 36.0                 105.0  0.98963  3.26       0.58   \n",
      "4150                  6.0                 194.0  0.99714  3.07       0.61   \n",
      "620                  59.0                 222.0  0.99930  3.18       0.58   \n",
      "\n",
      "      alcohol  quality  colour  \n",
      "742      9.20        5       1  \n",
      "3872     8.60        4       0  \n",
      "4544    12.75        6       0  \n",
      "4150     9.40        5       0  \n",
      "620      9.00        5       0  \n"
     ]
    }
   ],
   "source": [
    "data=data.iloc[np.random.permutation(len(data))]\n",
    "print(data.head())"
   ]
  },
  {
   "cell_type": "code",
   "execution_count": 21,
   "metadata": {},
   "outputs": [
    {
     "data": {
      "image/png": "[encoded data removed]",
      "text/plain": [
       "<Figure size 402.375x360 with 1 Axes>"
      ]
     },
     "metadata": {
      "needs_background": "light"
     },
     "output_type": "display_data"
    }
   ],
   "source": [
    "sns.lmplot(x='fixed acidity',\n",
    "  y='pH',\n",
    "  data=data,\n",
    "  fit_reg=False,\n",
    "  hue=\"colour\",\n",
    "  scatter_kws={\"marker\": \"D\",\n",
    "              \"s\": 50})\n",
    "plt.title('fixed acidity vs. pH')\n",
    "plt.show()\n"
   ]
  },
  {
   "cell_type": "code",
   "execution_count": 22,
   "metadata": {},
   "outputs": [
    {
     "data": {
      "image/png": "[encoded data removed]",
      "text/plain": [
       "<Figure size 402.375x360 with 1 Axes>"
      ]
     },
     "metadata": {
      "needs_background": "light"
     },
     "output_type": "display_data"
    }
   ],
   "source": [
    "sns.lmplot(x='residual sugar',\n",
    "  y='chlorides',\n",
    "  data=data,\n",
    "  fit_reg=False,\n",
    "  hue=\"colour\",\n",
    "  scatter_kws={\"marker\": \"D\",\n",
    "              \"s\": 50})\n",
    "plt.title('residual chloride vs. chlorides')\n",
    "plt.show()"
   ]
  },
  {
   "cell_type": "code",
   "execution_count": null,
   "metadata": {},
   "outputs": [],
   "source": [
    "sns.lmplot(x='sepal_length',\n",
    "  y='petal_length',\n",
    "  data=data,\n",
    "  fit_reg=False,\n",
    "  hue=\"colour\",\n",
    "  scatter_kws={\"marker\": \"D\",\n",
    "              \"s\": 50})\n",
    "plt.title('sepal length vs petal length')\n",
    "plt.show()"
   ]
  },
  {
   "cell_type": "code",
   "execution_count": null,
   "metadata": {},
   "outputs": [],
   "source": [
    "# sns.lmplot(x='sepal_width',\n",
    "#   y='petal_width',\n",
    "#   data=data,\n",
    "#   fit_reg=False,\n",
    "#   hue=\"colour\",\n",
    "#   scatter_kws={\"marker\": \"D\",\n",
    "#               \"s\": 50})\n",
    "# plt.title('SepalWidth vs PetalWidth')\n",
    "plt.show()"
   ]
  },
  {
   "cell_type": "code",
   "execution_count": 32,
   "metadata": {},
   "outputs": [],
   "source": [
    "data=data.iloc[np.random.permutation(len(data))]\n",
    "\n"
   ]
  },
  {
   "cell_type": "markdown",
   "metadata": {},
   "source": []
  },
  {
   "cell_type": "code",
   "execution_count": 34,
   "metadata": {},
   "outputs": [
    {
     "name": "stdout",
     "output_type": "stream",
     "text": [
      "(6497, 13)\n"
     ]
    }
   ],
   "source": [
    "print(data.shape)\n",
    "X=data.iloc[:,0:11].values\n"
   ]
  },
  {
   "cell_type": "code",
   "execution_count": 35,
   "metadata": {},
   "outputs": [
    {
     "name": "stdout",
     "output_type": "stream",
     "text": [
      "Shape of X (6497, 11)\n",
      "Shape of y (6497,)\n",
      "Examples of X\n",
      " [[6.9000e+00 5.2000e-01 2.5000e-01 2.6000e+00 8.1000e-02 1.0000e+01\n",
      "  3.7000e+01 9.9685e-01 3.4600e+00 5.0000e-01 1.1000e+01]\n",
      " [5.9000e+00 2.4000e-01 1.2000e-01 1.4000e+00 3.5000e-02 6.0000e+01\n",
      "  2.4700e+02 9.9358e-01 3.3400e+00 4.4000e-01 9.6000e+00]\n",
      " [7.2000e+00 2.4000e-01 2.7000e-01 1.1400e+01 3.4000e-02 4.0000e+01\n",
      "  1.7400e+02 9.9773e-01 3.2000e+00 4.4000e-01 9.0000e+00]]\n",
      "Examples of y\n",
      " [1 0 0]\n"
     ]
    }
   ],
   "source": [
    "y=data.iloc[:,12].values\n",
    "\n",
    "print(\"Shape of X\",X.shape)\n",
    "print(\"Shape of y\",y.shape)\n",
    "print(\"Examples of X\\n\",X[:3])\n",
    "print(\"Examples of y\\n\",y[:3])"
   ]
  },
  {
   "cell_type": "code",
   "execution_count": 36,
   "metadata": {},
   "outputs": [
    {
     "name": "stdout",
     "output_type": "stream",
     "text": [
      "Examples of X_normalised\n",
      " [[0.01167721 0.01709146 0.00885657 0.00446194 0.01520684 0.00351356\n",
      "  0.00356376 0.01243314 0.01332063 0.0112435  0.01292404]\n",
      " [0.00998486 0.00788837 0.00425115 0.00240258 0.00657086 0.02108136\n",
      "  0.02379051 0.01239235 0.01285865 0.00989428 0.01127916]\n",
      " [0.01218492 0.00788837 0.00956509 0.01956389 0.00638312 0.01405424\n",
      "  0.01675931 0.01244411 0.01231966 0.00989428 0.01057422]]\n"
     ]
    }
   ],
   "source": [
    "X_normalized=normalize(X,axis=0)\n",
    "print(\"Examples of X_normalised\\n\",X_normalized[:3])\n"
   ]
  },
  {
   "cell_type": "code",
   "execution_count": 37,
   "metadata": {},
   "outputs": [
    {
     "name": "stdout",
     "output_type": "stream",
     "text": [
      "Length of train set x: 5197 y: 5197\n",
      "Length of test set x: 1300 y: 1300\n"
     ]
    }
   ],
   "source": [
    "#Creating train,test and validation data\n",
    "'''\n",
    "80% -- train data\n",
    "20% -- test data\n",
    "'''\n",
    "total_length=len(data)\n",
    "train_length=int(0.8*total_length)\n",
    "test_length=int(0.2*total_length)\n",
    "\n",
    "X_train=X_normalized[:train_length]\n",
    "X_test=X_normalized[train_length:]\n",
    "y_train=y[:train_length]\n",
    "y_test=y[train_length:]\n",
    "\n",
    "print(\"Length of train set x:\",X_train.shape[0],\"y:\",y_train.shape[0])\n",
    "print(\"Length of test set x:\",X_test.shape[0],\"y:\",y_test.shape[0])"
   ]
  },
  {
   "cell_type": "code",
   "execution_count": 45,
   "metadata": {},
   "outputs": [
    {
     "name": "stdout",
     "output_type": "stream",
     "text": [
      "Shape of y_train (120, 3)\n",
      "Shape of y_test (30, 3)\n"
     ]
    }
   ],
   "source": [
    "#Neural network module\n",
    "from keras.models import Sequential \n",
    "from keras.layers import Dense,Activation,Dropout \n",
    "from keras.layers.normalization import BatchNormalization \n",
    "from keras.utils import np_utils\n",
    "\n",
    "y_train=np_utils.to_categorical(y_train,num_classes=2)\n",
    "y_test=np_utils.to_categorical(y_test,num_classes=2)\n",
    "print(\"Shape of y_train\",y_train.shape)\n",
    "print(\"Shape of y_test\",y_test.shape)"
   ]
  },
  {
   "cell_type": "code",
   "execution_count": 50,
   "metadata": {},
   "outputs": [
    {
     "name": "stdout",
     "output_type": "stream",
     "text": [
      "Model: \"sequential_4\"\n",
      "_________________________________________________________________\n",
      "Layer (type)                 Output Shape              Param #   \n",
      "=================================================================\n",
      "dense_16 (Dense)             (None, 1000)              5000      \n",
      "_________________________________________________________________\n",
      "dense_17 (Dense)             (None, 50)                50050     \n",
      "_________________________________________________________________\n",
      "dense_18 (Dense)             (None, 30)                1530      \n",
      "_________________________________________________________________\n",
      "dropout_4 (Dropout)          (None, 30)                0         \n",
      "_________________________________________________________________\n",
      "dense_19 (Dense)             (None, 3)                 93        \n",
      "=================================================================\n",
      "Total params: 56,673\n",
      "Trainable params: 56,673\n",
      "Non-trainable params: 0\n",
      "_________________________________________________________________\n"
     ]
    }
   ],
   "source": [
    "model = Sequential()\n",
    "model.add(Dense(1000,input_dim=4,activation='relu'))\n",
    "model.add(Dense(50,activation='relu'))\n",
    "model.add(Dense(30,activation='relu'))\n",
    "model.add(Dropout(0.2))\n",
    "model.add(Dense(3,activation='softmax'))\n",
    "model.compile(loss='categorical_crossentropy',optimizer='adam',metrics=['accuracy'])\n",
    "model.summary()"
   ]
  },
  {
   "cell_type": "code",
   "execution_count": 51,
   "metadata": {},
   "outputs": [
    {
     "name": "stdout",
     "output_type": "stream",
     "text": [
      "Epoch 1/10\n",
      "6/6 [==============================] - 1s 55ms/step - loss: 1.0941 - accuracy: 0.4486 - val_loss: 1.0759 - val_accuracy: 1.0000\n",
      "Epoch 2/10\n",
      "6/6 [==============================] - 0s 4ms/step - loss: 1.0692 - accuracy: 0.8498 - val_loss: 1.0477 - val_accuracy: 1.0000\n",
      "Epoch 3/10\n",
      "6/6 [==============================] - 0s 4ms/step - loss: 1.0381 - accuracy: 0.8932 - val_loss: 1.0118 - val_accuracy: 1.0000\n",
      "Epoch 4/10\n",
      "6/6 [==============================] - 0s 5ms/step - loss: 1.0028 - accuracy: 0.9823 - val_loss: 0.9636 - val_accuracy: 1.0000\n",
      "Epoch 5/10\n",
      "6/6 [==============================] - 0s 4ms/step - loss: 0.9459 - accuracy: 0.9245 - val_loss: 0.9024 - val_accuracy: 1.0000\n",
      "Epoch 6/10\n",
      "6/6 [==============================] - 0s 5ms/step - loss: 0.8747 - accuracy: 0.9524 - val_loss: 0.8265 - val_accuracy: 1.0000\n",
      "Epoch 7/10\n",
      "6/6 [==============================] - 0s 4ms/step - loss: 0.7936 - accuracy: 0.9593 - val_loss: 0.7378 - val_accuracy: 1.0000\n",
      "Epoch 8/10\n",
      "6/6 [==============================] - 0s 5ms/step - loss: 0.6899 - accuracy: 0.9952 - val_loss: 0.6380 - val_accuracy: 1.0000\n",
      "Epoch 9/10\n",
      "6/6 [==============================] - 0s 4ms/step - loss: 0.6231 - accuracy: 0.9340 - val_loss: 0.5441 - val_accuracy: 1.0000\n",
      "Epoch 10/10\n",
      "6/6 [==============================] - 0s 4ms/step - loss: 0.4800 - accuracy: 0.9749 - val_loss: 0.4466 - val_accuracy: 1.0000\n"
     ]
    },
    {
     "data": {
      "text/plain": [
       "<keras.callbacks.History at 0x1707a36a0>"
      ]
     },
     "execution_count": 51,
     "metadata": {},
     "output_type": "execute_result"
    }
   ],
   "source": [
    "model.fit(X_train,y_train,validation_data=(X_test,y_test),batch_size=20,epochs=10,verbose=1)"
   ]
  },
  {
   "cell_type": "code",
   "execution_count": 52,
   "metadata": {},
   "outputs": [
    {
     "name": "stdout",
     "output_type": "stream",
     "text": [
      "Accuracy of the dataset 100.0\n"
     ]
    }
   ],
   "source": [
    "prediction=model.predict(X_test)\n",
    "length=len(prediction)\n",
    "y_label=np.argmax(y_test,axis=1)\n",
    "predict_label=np.argmax(prediction,axis=1)\n",
    "\n",
    "accuracy=np.sum(y_label==predict_label)/length * 100 \n",
    "print(\"Accuracy of the dataset\",accuracy )"
   ]
  }
 ],
 "metadata": {
  "interpreter": {
   "hash": "31f2aee4e71d21fbe5cf8b01ff0e069b9275f58929596ceb00d14d90e3e16cd6"
  },
  "kernelspec": {
   "display_name": "Python 3.8.2 64-bit",
   "name": "python3"
  },
  "language_info": {
   "codemirror_mode": {
    "name": "ipython",
    "version": 3
   },
   "file_extension": ".py",
   "mimetype": "text/x-python",
   "name": "python",
   "nbconvert_exporter": "python",
   "pygments_lexer": "ipython3",
   "version": "3.8.2"
  },
  "orig_nbformat": 4
 },
 "nbformat": 4,
 "nbformat_minor": 2
}