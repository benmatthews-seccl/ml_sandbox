{
 "cells": [
  {
   "cell_type": "code",
   "execution_count": 30,
   "metadata": {},
   "outputs": [],
   "source": [
    "#Import required libraries \n",
    "from tensorflow import keras #library for neural network\n",
    "import pandas as pd #loading data in table form  \n",
    "import seaborn as sns #visualisation \n",
    "import matplotlib.pyplot as plt #visualisation\n",
    "import numpy as np # linear algebra\n",
    "import pandas as pd # data processing, CSV file I/O (e.g. pd.read_csv)\n",
    "from sklearn.preprocessing import normalize #machine learning algorithm library\n"
   ]
  },
  {
   "cell_type": "code",
   "execution_count": 31,
   "metadata": {},
   "outputs": [
    {
     "name": "stdout",
     "output_type": "stream",
     "text": [
      "Describing the data:         sepal_length  sepal_width  petal_length  petal_width\n",
      "count    150.000000   150.000000    150.000000   150.000000\n",
      "mean       5.843333     3.054000      3.758667     1.198667\n",
      "std        0.828066     0.433594      1.764420     0.763161\n",
      "min        4.300000     2.000000      1.000000     0.100000\n",
      "25%        5.100000     2.800000      1.600000     0.300000\n",
      "50%        5.800000     3.000000      4.350000     1.300000\n",
      "75%        6.400000     3.300000      5.100000     1.800000\n",
      "max        7.900000     4.400000      6.900000     2.500000\n",
      "<class 'pandas.core.frame.DataFrame'>\n",
      "RangeIndex: 150 entries, 0 to 149\n",
      "Data columns (total 5 columns):\n",
      " #   Column        Non-Null Count  Dtype  \n",
      "---  ------        --------------  -----  \n",
      " 0   sepal_length  150 non-null    float64\n",
      " 1   sepal_width   150 non-null    float64\n",
      " 2   petal_length  150 non-null    float64\n",
      " 3   petal_width   150 non-null    float64\n",
      " 4   species       150 non-null    object \n",
      "dtypes: float64(4), object(1)\n",
      "memory usage: 6.0+ KB\n",
      "Info of the data: None\n"
     ]
    }
   ],
   "source": [
    "\n",
    "#Reading data \n",
    "data = pd.read_csv(\"./data/Iris.csv\")\n",
    "print(\"Describing the data: \", data.describe())\n",
    "print(\"Info of the data:\", data.info())\n"
   ]
  },
  {
   "cell_type": "code",
   "execution_count": 32,
   "metadata": {},
   "outputs": [
    {
     "name": "stdout",
     "output_type": "stream",
     "text": [
      "10 first samples of the dataset:    sepal_length  sepal_width  petal_length  petal_width      species\n",
      "0           5.1          3.5           1.4          0.2  Iris-setosa\n",
      "1           4.9          3.0           1.4          0.2  Iris-setosa\n",
      "2           4.7          3.2           1.3          0.2  Iris-setosa\n",
      "3           4.6          3.1           1.5          0.2  Iris-setosa\n",
      "4           5.0          3.6           1.4          0.2  Iris-setosa\n",
      "5           5.4          3.9           1.7          0.4  Iris-setosa\n",
      "6           4.6          3.4           1.4          0.3  Iris-setosa\n",
      "7           5.0          3.4           1.5          0.2  Iris-setosa\n",
      "8           4.4          2.9           1.4          0.2  Iris-setosa\n",
      "9           4.9          3.1           1.5          0.1  Iris-setosa\n",
      "10 last samples of the dataset:      sepal_length  sepal_width  petal_length  petal_width         species\n",
      "140           6.7          3.1           5.6          2.4  Iris-virginica\n",
      "141           6.9          3.1           5.1          2.3  Iris-virginica\n",
      "142           5.8          2.7           5.1          1.9  Iris-virginica\n",
      "143           6.8          3.2           5.9          2.3  Iris-virginica\n",
      "144           6.7          3.3           5.7          2.5  Iris-virginica\n",
      "145           6.7          3.0           5.2          2.3  Iris-virginica\n",
      "146           6.3          2.5           5.0          1.9  Iris-virginica\n",
      "147           6.5          3.0           5.2          2.0  Iris-virginica\n",
      "148           6.2          3.4           5.4          2.3  Iris-virginica\n",
      "149           5.9          3.0           5.1          1.8  Iris-virginica\n"
     ]
    }
   ],
   "source": [
    "\n",
    "print(\"10 first samples of the dataset:\",data.head(10))\n",
    "print(\"10 last samples of the dataset:\",data.tail(10))\n"
   ]
  },
  {
   "cell_type": "code",
   "execution_count": 33,
   "metadata": {},
   "outputs": [
    {
     "name": "stdout",
     "output_type": "stream",
     "text": [
      "['Iris-setosa' 'Iris-versicolor' 'Iris-virginica']\n",
      "   sepal_length  sepal_width  petal_length  petal_width species\n",
      "0           5.1          3.5           1.4          0.2       0\n",
      "1           4.9          3.0           1.4          0.2       0\n",
      "2           4.7          3.2           1.3          0.2       0\n",
      "3           4.6          3.1           1.5          0.2       0\n",
      "4           5.0          3.6           1.4          0.2       0\n"
     ]
    }
   ],
   "source": [
    "\n",
    "print(data[\"species\"].unique())\n",
    "data.loc[data[\"species\"]==\"Iris-setosa\",\"species\"]=0\n",
    "data.loc[data[\"species\"]==\"Iris-versicolor\",\"species\"]=1\n",
    "data.loc[data[\"species\"]==\"Iris-virginica\",\"species\"]=2\n",
    "print(data.head())\n"
   ]
  },
  {
   "cell_type": "code",
   "execution_count": 34,
   "metadata": {},
   "outputs": [
    {
     "name": "stdout",
     "output_type": "stream",
     "text": [
      "    sepal_length  sepal_width  petal_length  petal_width species\n",
      "14           5.8          4.0           1.2          0.2       0\n",
      "4            5.0          3.6           1.4          0.2       0\n",
      "65           6.7          3.1           4.4          1.4       1\n",
      "84           5.4          3.0           4.5          1.5       1\n",
      "9            4.9          3.1           1.5          0.1       0\n"
     ]
    }
   ],
   "source": [
    "data=data.iloc[np.random.permutation(len(data))]\n",
    "print(data.head())"
   ]
  },
  {
   "cell_type": "code",
   "execution_count": 55,
   "metadata": {},
   "outputs": [
    {
     "data": {
      "image/png": "[encoded data removed]",
      "text/plain": [
       "<Figure size 405.375x360 with 1 Axes>"
      ]
     },
     "metadata": {
      "needs_background": "light"
     },
     "output_type": "display_data"
    },
    {
     "data": {
      "image/png": "[encoded data removed]",
      "text/plain": [
       "<Figure size 405.375x360 with 1 Axes>"
      ]
     },
     "metadata": {
      "needs_background": "light"
     },
     "output_type": "display_data"
    },
    {
     "data": {
      "image/png": "[encoded data removed]",
      "text/plain": [
       "<Figure size 405.375x360 with 1 Axes>"
      ]
     },
     "metadata": {
      "needs_background": "light"
     },
     "output_type": "display_data"
    },
    {
     "data": {
      "image/png": "[encoded data removed]",
      "text/plain": [
       "<Figure size 405.375x360 with 1 Axes>"
      ]
     },
     "metadata": {
      "needs_background": "light"
     },
     "output_type": "display_data"
    }
   ],
   "source": [
    "sns.lmplot(x='sepal_length',\n",
    "  y='sepal_width',\n",
    "  data=data,\n",
    "  fit_reg=False,\n",
    "  hue=\"species\",\n",
    "  scatter_kws={\"marker\": \"D\",\n",
    "              \"s\": 50})\n",
    "plt.title('SepalLength vs SepalWidth')\n",
    "\n",
    "sns.lmplot(x='petal_length',\n",
    "  y='petal_width',\n",
    "  data=data,\n",
    "  fit_reg=False,\n",
    "  hue=\"species\",\n",
    "  scatter_kws={\"marker\": \"D\",\n",
    "              \"s\": 50})\n",
    "plt.title('PetalLength vs PetalWidth')\n",
    "\n",
    "sns.lmplot(x='sepal_length',\n",
    "  y='petal_length',\n",
    "  data=data,\n",
    "  fit_reg=False,\n",
    "  hue=\"species\",\n",
    "  scatter_kws={\"marker\": \"D\",\n",
    "              \"s\": 50})\n",
    "plt.title('sepal length vs petal length')\n",
    "\n",
    "sns.lmplot(x='sepal_width',\n",
    "  y='petal_width',\n",
    "  data=data,\n",
    "  fit_reg=False,\n",
    "  hue=\"species\",\n",
    "  scatter_kws={\"marker\": \"D\",\n",
    "              \"s\": 50})\n",
    "plt.title('SepalWidth vs PetalWidth')\n",
    "plt.show()"
   ]
  },
  {
   "cell_type": "code",
   "execution_count": 36,
   "metadata": {},
   "outputs": [],
   "source": [
    "data=data.iloc[np.random.permutation(len(data))]\n"
   ]
  },
  {
   "cell_type": "markdown",
   "metadata": {},
   "source": []
  },
  {
   "cell_type": "code",
   "execution_count": 37,
   "metadata": {},
   "outputs": [],
   "source": [
    "X=data.iloc[:,1:5].values\n"
   ]
  },
  {
   "cell_type": "code",
   "execution_count": 38,
   "metadata": {},
   "outputs": [
    {
     "name": "stdout",
     "output_type": "stream",
     "text": [
      "Shape of X (150, 4)\n",
      "Shape of y (150,)\n",
      "Examples of X\n",
      " [[2.8 4.7 1.2 1]\n",
      " [3.0 5.5 2.1 2]\n",
      " [2.5 4.5 1.7 2]]\n",
      "Examples of y\n",
      " [1 2 2]\n"
     ]
    }
   ],
   "source": [
    "y=data.iloc[:,4].values\n",
    "\n",
    "print(\"Shape of X\",X.shape)\n",
    "print(\"Shape of y\",y.shape)\n",
    "print(\"Examples of X\\n\",X[:3])\n",
    "print(\"Examples of y\\n\",y[:3])"
   ]
  },
  {
   "cell_type": "code",
   "execution_count": 39,
   "metadata": {},
   "outputs": [
    {
     "name": "stdout",
     "output_type": "stream",
     "text": [
      "Examples of X_normalised\n",
      " [[0.07412052 0.09247741 0.06901797 0.06324555]\n",
      " [0.07941484 0.10821824 0.12078145 0.12649111]\n",
      " [0.06617903 0.0885422  0.09777546 0.12649111]]\n"
     ]
    }
   ],
   "source": [
    "X_normalized=normalize(X,axis=0)\n",
    "print(\"Examples of X_normalised\\n\",X_normalized[:3])\n"
   ]
  },
  {
   "cell_type": "code",
   "execution_count": 40,
   "metadata": {},
   "outputs": [
    {
     "name": "stdout",
     "output_type": "stream",
     "text": [
      "Length of train set x: 120 y: 120\n",
      "Length of test set x: 30 y: 30\n"
     ]
    }
   ],
   "source": [
    "#Creating train,test and validation data\n",
    "'''\n",
    "80% -- train data\n",
    "20% -- test data\n",
    "'''\n",
    "total_length=len(data)\n",
    "train_length=int(0.8*total_length)\n",
    "test_length=int(0.2*total_length)\n",
    "\n",
    "X_train=X_normalized[:train_length]\n",
    "X_test=X_normalized[train_length:]\n",
    "y_train=y[:train_length]\n",
    "y_test=y[train_length:]\n",
    "\n",
    "print(\"Length of train set x:\",X_train.shape[0],\"y:\",y_train.shape[0])\n",
    "print(\"Length of test set x:\",X_test.shape[0],\"y:\",y_test.shape[0])"
   ]
  },
  {
   "cell_type": "code",
   "execution_count": 45,
   "metadata": {},
   "outputs": [
    {
     "name": "stdout",
     "output_type": "stream",
     "text": [
      "Shape of y_train (120, 3)\n",
      "Shape of y_test (30, 3)\n"
     ]
    }
   ],
   "source": [
    "#Neural network module\n",
    "from keras.models import Sequential \n",
    "from keras.layers import Dense,Activation,Dropout \n",
    "from keras.layers.normalization import BatchNormalization \n",
    "from keras.utils import np_utils\n",
    "\n",
    "y_train=np_utils.to_categorical(y_train,num_classes=3)\n",
    "y_test=np_utils.to_categorical(y_test,num_classes=3)\n",
    "print(\"Shape of y_train\",y_train.shape)\n",
    "print(\"Shape of y_test\",y_test.shape)"
   ]
  },
  {
   "cell_type": "code",
   "execution_count": 50,
   "metadata": {},
   "outputs": [
    {
     "name": "stdout",
     "output_type": "stream",
     "text": [
      "Model: \"sequential_4\"\n",
      "_________________________________________________________________\n",
      "Layer (type)                 Output Shape              Param #   \n",
      "=================================================================\n",
      "dense_16 (Dense)             (None, 1000)              5000      \n",
      "_________________________________________________________________\n",
      "dense_17 (Dense)             (None, 50)                50050     \n",
      "_________________________________________________________________\n",
      "dense_18 (Dense)             (None, 30)                1530      \n",
      "_________________________________________________________________\n",
      "dropout_4 (Dropout)          (None, 30)                0         \n",
      "_________________________________________________________________\n",
      "dense_19 (Dense)             (None, 3)                 93        \n",
      "=================================================================\n",
      "Total params: 56,673\n",
      "Trainable params: 56,673\n",
      "Non-trainable params: 0\n",
      "_________________________________________________________________\n"
     ]
    }
   ],
   "source": [
    "model = Sequential()\n",
    "model.add(Dense(1000,input_dim=4,activation='relu'))\n",
    "model.add(Dense(50,activation='relu'))\n",
    "model.add(Dense(30,activation='relu'))\n",
    "model.add(Dropout(0.2))\n",
    "model.add(Dense(3,activation='softmax'))\n",
    "model.compile(loss='categorical_crossentropy',optimizer='adam',metrics=['accuracy'])\n",
    "model.summary()"
   ]
  },
  {
   "cell_type": "code",
   "execution_count": 51,
   "metadata": {},
   "outputs": [
    {
     "name": "stdout",
     "output_type": "stream",
     "text": [
      "Epoch 1/10\n",
      "6/6 [==============================] - 1s 55ms/step - loss: 1.0941 - accuracy: 0.4486 - val_loss: 1.0759 - val_accuracy: 1.0000\n",
      "Epoch 2/10\n",
      "6/6 [==============================] - 0s 4ms/step - loss: 1.0692 - accuracy: 0.8498 - val_loss: 1.0477 - val_accuracy: 1.0000\n",
      "Epoch 3/10\n",
      "6/6 [==============================] - 0s 4ms/step - loss: 1.0381 - accuracy: 0.8932 - val_loss: 1.0118 - val_accuracy: 1.0000\n",
      "Epoch 4/10\n",
      "6/6 [==============================] - 0s 5ms/step - loss: 1.0028 - accuracy: 0.9823 - val_loss: 0.9636 - val_accuracy: 1.0000\n",
      "Epoch 5/10\n",
      "6/6 [==============================] - 0s 4ms/step - loss: 0.9459 - accuracy: 0.9245 - val_loss: 0.9024 - val_accuracy: 1.0000\n",
      "Epoch 6/10\n",
      "6/6 [==============================] - 0s 5ms/step - loss: 0.8747 - accuracy: 0.9524 - val_loss: 0.8265 - val_accuracy: 1.0000\n",
      "Epoch 7/10\n",
      "6/6 [==============================] - 0s 4ms/step - loss: 0.7936 - accuracy: 0.9593 - val_loss: 0.7378 - val_accuracy: 1.0000\n",
      "Epoch 8/10\n",
      "6/6 [==============================] - 0s 5ms/step - loss: 0.6899 - accuracy: 0.9952 - val_loss: 0.6380 - val_accuracy: 1.0000\n",
      "Epoch 9/10\n",
      "6/6 [==============================] - 0s 4ms/step - loss: 0.6231 - accuracy: 0.9340 - val_loss: 0.5441 - val_accuracy: 1.0000\n",
      "Epoch 10/10\n",
      "6/6 [==============================] - 0s 4ms/step - loss: 0.4800 - accuracy: 0.9749 - val_loss: 0.4466 - val_accuracy: 1.0000\n"
     ]
    },
    {
     "data": {
      "text/plain": [
       "<keras.callbacks.History at 0x1707a36a0>"
      ]
     },
     "execution_count": 51,
     "metadata": {},
     "output_type": "execute_result"
    }
   ],
   "source": [
    "model.fit(X_train,y_train,validation_data=(X_test,y_test),batch_size=20,epochs=10,verbose=1)"
   ]
  },
  {
   "cell_type": "code",
   "execution_count": 52,
   "metadata": {},
   "outputs": [
    {
     "name": "stdout",
     "output_type": "stream",
     "text": [
      "Accuracy of the dataset 100.0\n"
     ]
    }
   ],
   "source": [
    "prediction=model.predict(X_test)\n",
    "length=len(prediction)\n",
    "y_label=np.argmax(y_test,axis=1)\n",
    "predict_label=np.argmax(prediction,axis=1)\n",
    "\n",
    "accuracy=np.sum(y_label==predict_label)/length * 100 \n",
    "print(\"Accuracy of the dataset\",accuracy )"
   ]
  }
 ],
 "metadata": {
  "interpreter": {
   "hash": "31f2aee4e71d21fbe5cf8b01ff0e069b9275f58929596ceb00d14d90e3e16cd6"
  },
  "kernelspec": {
   "display_name": "Python 3.8.2 64-bit",
   "name": "python3"
  },
  "language_info": {
   "codemirror_mode": {
    "name": "ipython",
    "version": 3
   },
   "file_extension": ".py",
   "mimetype": "text/x-python",
   "name": "python",
   "nbconvert_exporter": "python",
   "pygments_lexer": "ipython3",
   "version": "3.8.2"
  },
  "orig_nbformat": 4
 },
 "nbformat": 4,
 "nbformat_minor": 2
}