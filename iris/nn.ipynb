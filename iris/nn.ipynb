{
 "cells": [
  {
   "cell_type": "code",
   "execution_count": null,
   "metadata": {},
   "outputs": [],
   "source": [
    "#Import required libraries \n",
    "from tensorflow import keras #library for neural network\n",
    "import pandas as pd #loading data in table form  \n",
    "import seaborn as sns #visualisation \n",
    "import matplotlib.pyplot as plt #visualisation\n",
    "import numpy as np # linear algebra\n",
    "import pandas as pd # data processing, CSV file I/O (e.g. pd.read_csv)\n",
    "from sklearn.preprocessing import normalize #machine learning algorithm library\n"
   ]
  },
  {
   "cell_type": "code",
   "execution_count": null,
   "metadata": {},
   "outputs": [],
   "source": [
    "\n",
    "#Reading data \n",
    "data = pd.read_csv(\"./data/Iris.csv\")\n",
    "print(\"Describing the data: \", data.describe())\n",
    "print(\"Info of the data:\", data.info())\n"
   ]
  },
  {
   "cell_type": "code",
   "execution_count": null,
   "metadata": {},
   "outputs": [],
   "source": [
    "\n",
    "print(\"10 first samples of the dataset:\",data.head(10))\n",
    "print(\"10 last samples of the dataset:\",data.tail(10))\n"
   ]
  },
  {
   "cell_type": "code",
   "execution_count": null,
   "metadata": {},
   "outputs": [],
   "source": [
    "\n",
    "print(data[\"species\"].unique())\n",
    "data.loc[data[\"species\"]==\"Iris-setosa\",\"species\"]=0\n",
    "data.loc[data[\"species\"]==\"Iris-versicolor\",\"species\"]=1\n",
    "data.loc[data[\"species\"]==\"Iris-virginica\",\"species\"]=2\n",
    "print(data.head())\n"
   ]
  },
  {
   "cell_type": "code",
   "execution_count": null,
   "metadata": {},
   "outputs": [],
   "source": [
    "data=data.iloc[np.random.permutation(len(data))]\n",
    "print(data.head())"
   ]
  },
  {
   "cell_type": "code",
   "execution_count": null,
   "metadata": {},
   "outputs": [],
   "source": [
    "sns.lmplot(x='sepal_length',\n",
    "  y='sepal_width',\n",
    "  data=data,\n",
    "  fit_reg=False,\n",
    "  hue=\"species\",\n",
    "  scatter_kws={\"marker\": \"D\",\n",
    "              \"s\": 50})\n",
    "plt.title('SepalLength vs SepalWidth')\n",
    "\n",
    "sns.lmplot(x='petal_length',\n",
    "  y='petal_width',\n",
    "  data=data,\n",
    "  fit_reg=False,\n",
    "  hue=\"species\",\n",
    "  scatter_kws={\"marker\": \"D\",\n",
    "              \"s\": 50})\n",
    "plt.title('PetalLength vs PetalWidth')\n",
    "\n",
    "sns.lmplot(x='sepal_length',\n",
    "  y='petal_length',\n",
    "  data=data,\n",
    "  fit_reg=False,\n",
    "  hue=\"species\",\n",
    "  scatter_kws={\"marker\": \"D\",\n",
    "              \"s\": 50})\n",
    "plt.title('sepal length vs petal length')\n",
    "\n",
    "sns.lmplot(x='sepal_width',\n",
    "  y='petal_width',\n",
    "  data=data,\n",
    "  fit_reg=False,\n",
    "  hue=\"species\",\n",
    "  scatter_kws={\"marker\": \"D\",\n",
    "              \"s\": 50})\n",
    "plt.title('SepalWidth vs PetalWidth')\n",
    "plt.show()"
   ]
  },
  {
   "cell_type": "code",
   "execution_count": null,
   "metadata": {},
   "outputs": [],
   "source": [
    "data=data.iloc[np.random.permutation(len(data))]\n"
   ]
  },
  {
   "cell_type": "markdown",
   "metadata": {},
   "source": []
  },
  {
   "cell_type": "code",
   "execution_count": null,
   "metadata": {},
   "outputs": [],
   "source": [
    "X=data.iloc[:,1:5].values\n"
   ]
  },
  {
   "cell_type": "code",
   "execution_count": null,
   "metadata": {},
   "outputs": [],
   "source": [
    "y=data.iloc[:,4].values\n",
    "\n",
    "print(\"Shape of X\",X.shape)\n",
    "print(\"Shape of y\",y.shape)\n",
    "print(\"Examples of X\\n\",X[:3])\n",
    "print(\"Examples of y\\n\",y[:3])"
   ]
  },
  {
   "cell_type": "code",
   "execution_count": null,
   "metadata": {},
   "outputs": [],
   "source": [
    "X_normalized=normalize(X,axis=0)\n",
    "print(\"Examples of X_normalised\\n\",X_normalized[:3])\n"
   ]
  },
  {
   "cell_type": "code",
   "execution_count": null,
   "metadata": {},
   "outputs": [],
   "source": [
    "#Creating train,test and validation data\n",
    "'''\n",
    "80% -- train data\n",
    "20% -- test data\n",
    "'''\n",
    "total_length=len(data)\n",
    "train_length=int(0.8*total_length)\n",
    "test_length=int(0.2*total_length)\n",
    "\n",
    "X_train=X_normalized[:train_length]\n",
    "X_test=X_normalized[train_length:]\n",
    "y_train=y[:train_length]\n",
    "y_test=y[train_length:]\n",
    "\n",
    "print(\"Length of train set x:\",X_train.shape[0],\"y:\",y_train.shape[0])\n",
    "print(\"Length of test set x:\",X_test.shape[0],\"y:\",y_test.shape[0])"
   ]
  },
  {
   "cell_type": "code",
   "execution_count": null,
   "metadata": {},
   "outputs": [],
   "source": [
    "#Neural network module\n",
    "from keras.models import Sequential \n",
    "from keras.layers import Dense,Activation,Dropout \n",
    "from keras.layers.normalization import BatchNormalization \n",
    "from keras.utils import np_utils\n",
    "\n",
    "y_train=np_utils.to_categorical(y_train,num_classes=3)\n",
    "y_test=np_utils.to_categorical(y_test,num_classes=3)\n",
    "print(\"Shape of y_train\",y_train.shape)\n",
    "print(\"Shape of y_test\",y_test.shape)"
   ]
  },
  {
   "cell_type": "code",
   "execution_count": null,
   "metadata": {},
   "outputs": [],
   "source": [
    "model = Sequential()\n",
    "model.add(Dense(1000,input_dim=4,activation='relu'))\n",
    "model.add(Dense(50,activation='relu'))\n",
    "model.add(Dense(30,activation='relu'))\n",
    "model.add(Dropout(0.2))\n",
    "model.add(Dense(3,activation='softmax'))\n",
    "model.compile(loss='categorical_crossentropy',optimizer='adam',metrics=['accuracy'])\n",
    "model.summary()"
   ]
  },
  {
   "cell_type": "code",
   "execution_count": null,
   "metadata": {},
   "outputs": [],
   "source": [
    "model.fit(X_train,y_train,validation_data=(X_test,y_test),batch_size=20,epochs=10,verbose=1)"
   ]
  },
  {
   "cell_type": "code",
   "execution_count": null,
   "metadata": {},
   "outputs": [],
   "source": [
    "prediction=model.predict(X_test)\n",
    "length=len(prediction)\n",
    "y_label=np.argmax(y_test,axis=1)\n",
    "predict_label=np.argmax(prediction,axis=1)\n",
    "\n",
    "accuracy=np.sum(y_label==predict_label)/length * 100 \n",
    "print(\"Accuracy of the dataset\",accuracy )"
   ]
  }
 ],
 "metadata": {
  "interpreter": {
   "hash": "31f2aee4e71d21fbe5cf8b01ff0e069b9275f58929596ceb00d14d90e3e16cd6"
  },
  "kernelspec": {
   "display_name": "Python 3.8.2 64-bit",
   "name": "python3"
  },
  "language_info": {
   "name": "python",
   "version": ""
  },
  "orig_nbformat": 4
 },
 "nbformat": 4,
 "nbformat_minor": 2
}